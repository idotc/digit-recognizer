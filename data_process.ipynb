{
 "metadata": {
  "name": "",
  "signature": "sha256:aa9113101ddf6ebed94428cf25af53c6cbc9da58f4ea8168381da525665380f7"
 },
 "nbformat": 3,
 "nbformat_minor": 0,
 "worksheets": [
  {
   "cells": [
    {
     "cell_type": "code",
     "collapsed": false,
     "input": [
      "import pandas as pd\n",
      "import numpy as np\n",
      "from PIL import Image"
     ],
     "language": "python",
     "metadata": {},
     "outputs": [],
     "prompt_number": 1
    },
    {
     "cell_type": "code",
     "collapsed": false,
     "input": [
      "train_file = pd.read_csv('train.csv')\n",
      "train_file = np.array(train_file.loc[:,:])\n",
      "train_data = train_file[:,1:]\n",
      "label_data = train_file[:,0]"
     ],
     "language": "python",
     "metadata": {},
     "outputs": [],
     "prompt_number": 2
    },
    {
     "cell_type": "code",
     "collapsed": false,
     "input": [
      "pic = train_data[0].reshape(28,28)\n",
      "print (type(pic))\n",
      "im = Image.fromarray(np.uint8(pic))\n",
      "im.show()\n",
      "print (label_data[0])"
     ],
     "language": "python",
     "metadata": {},
     "outputs": [
      {
       "output_type": "stream",
       "stream": "stdout",
       "text": [
        "<class 'numpy.ndarray'>\n",
        "1"
       ]
      },
      {
       "output_type": "stream",
       "stream": "stdout",
       "text": [
        "\n"
       ]
      }
     ],
     "prompt_number": 7
    },
    {
     "cell_type": "code",
     "collapsed": false,
     "input": [],
     "language": "python",
     "metadata": {},
     "outputs": []
    }
   ],
   "metadata": {}
  }
 ]
}